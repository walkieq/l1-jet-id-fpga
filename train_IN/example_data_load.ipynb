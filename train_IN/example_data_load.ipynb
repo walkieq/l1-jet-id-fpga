{
 "cells": [
  {
   "cell_type": "code",
   "execution_count": 2,
   "id": "e58a653e-37e9-41e0-af8e-bf8a7067a7cc",
   "metadata": {},
   "outputs": [],
   "source": [
    "import numpy as np\n",
    "import os\n",
    "import time\n",
    "import argparse\n",
    "import random\n",
    "\n",
    "import tensorflow as tf\n",
    "from tensorflow.keras.models import Model\n",
    "from tensorflow.keras.layers import (\n",
    "    Input,\n",
    "    Concatenate,\n",
    "    Flatten,\n",
    "    BatchNormalization,\n",
    "    Activation,\n",
    ")\n",
    "from tensorflow.keras.optimizers import Adam\n",
    "from qkeras import QActivation, QDense, QConv1D, QConv2D, quantized_bits\n",
    "from qkeras.autoqkeras.utils import print_qmodel_summary\n",
    "\n",
    "from sklearn.metrics import accuracy_score\n",
    "from tensorflow_model_optimization.python.core.sparsity.keras import pruning_wrapper\n",
    "\n",
    "\n",
    "from node_edge_projection import NodeEdgeProjection"
   ]
  },
  {
   "cell_type": "code",
   "execution_count": 3,
   "id": "8b9fd49d-0666-4fc5-9779-026af14c0f2a",
   "metadata": {},
   "outputs": [],
   "source": [
    "jetConstituent = np.load(\"data/jetConstituent_150_16f.npy\")\n",
    "target = np.load(\"data/jetConstituent_target_150_16f.npy\")"
   ]
  },
  {
   "cell_type": "code",
   "execution_count": 4,
   "id": "d97907d1-1b6a-4d9b-a50d-8fb38eb666e6",
   "metadata": {},
   "outputs": [],
   "source": [
    "# Restrict the number of constituents to a maximum of NMAX\n",
    "nmax = 30\n",
    "jetConstituent = jetConstituent[:, 0:nmax, :]"
   ]
  },
  {
   "cell_type": "code",
   "execution_count": 5,
   "id": "727a000f-eee6-459e-b213-b6778de687f2",
   "metadata": {},
   "outputs": [
    {
     "name": "stdout",
     "output_type": "stream",
     "text": [
      "Number of jets = 260000\n",
      "Number of constituents = 30\n",
      "Number of features = 16\n"
     ]
    }
   ],
   "source": [
    "# The dataset is N_jets x N_constituents x N_features\n",
    "njet = jetConstituent.shape[0]\n",
    "nconstit = jetConstituent.shape[1]\n",
    "nfeat = jetConstituent.shape[2]\n",
    "\n",
    "\n",
    "print(\"Number of jets =\", njet)\n",
    "print(\"Number of constituents =\", nconstit)\n",
    "print(\"Number of features =\", nfeat)\n"
   ]
  },
  {
   "cell_type": "code",
   "execution_count": 6,
   "id": "13c87a46-139b-4f2b-9802-42ccd2aab416",
   "metadata": {},
   "outputs": [
    {
     "name": "stdout",
     "output_type": "stream",
     "text": [
      "Before --->> jetConstituent[0,0:4,0] =  [-177.97363281 -139.30709839 -122.01608276 -112.20430756]\n",
      "After --->> jetConstituent[0,0:4,0] =  [-112.20430756   -9.28591919   -6.54517365  -34.23769379]\n",
      "(174200, 30, 16) (85800, 30, 16) (174200, 5) (85800, 5)\n"
     ]
    }
   ],
   "source": [
    "\n",
    "# Shuffles jet constituents\n",
    "print(\"Before --->> jetConstituent[0,0:4,0] = \", jetConstituent[0, 0:4, 0])\n",
    "for i in range(jetConstituent.shape[0]):\n",
    "    jetConstituent[i] = jetConstituent[i, np.random.permutation(nconstit), :]\n",
    "print(\"After --->> jetConstituent[0,0:4,0] = \", jetConstituent[0, 0:4, 0])\n",
    "\n",
    "\n",
    "from sklearn.model_selection import train_test_split\n",
    "\n",
    "X = jetConstituent\n",
    "Y = target\n",
    "del jetConstituent, target\n",
    "\n",
    "X_train_val, X_test, Y_train_val, Y_test = train_test_split(\n",
    "    X, Y, test_size=0.33, random_state=7\n",
    ")\n",
    "\n",
    "print(X_train_val.shape, X_test.shape, Y_train_val.shape, Y_test.shape)"
   ]
  },
  {
   "cell_type": "code",
   "execution_count": 7,
   "id": "fdb252dd-2a3a-4211-9f6b-eebb7c9ec912",
   "metadata": {},
   "outputs": [
    {
     "name": "stdout",
     "output_type": "stream",
     "text": [
      "number of G jets for training/validation: 35213\n",
      "number of Q jets for training/validation: 33694\n",
      "number of W jets for training/validation: 35083\n",
      "number of Z jets for training/validation: 35023\n",
      "number of T jets for training/validation: 35187\n",
      "number of G jets for testing: 17191\n",
      "number of Q jets for testing: 16774\n",
      "number of W jets for testing: 17152\n",
      "number of Z jets for testing: 17275\n",
      "number of T jets for testing: 17408\n"
     ]
    }
   ],
   "source": [
    "print(\n",
    "    \"number of G jets for training/validation: %i\"\n",
    "    % np.sum(np.argmax(Y_train_val, axis=1) == 0)\n",
    ")\n",
    "print(\n",
    "    \"number of Q jets for training/validation: %i\"\n",
    "    % np.sum(np.argmax(Y_train_val, axis=1) == 1)\n",
    ")\n",
    "print(\n",
    "    \"number of W jets for training/validation: %i\"\n",
    "    % np.sum(np.argmax(Y_train_val, axis=1) == 2)\n",
    ")\n",
    "print(\n",
    "    \"number of Z jets for training/validation: %i\"\n",
    "    % np.sum(np.argmax(Y_train_val, axis=1) == 3)\n",
    ")\n",
    "print(\n",
    "    \"number of T jets for training/validation: %i\"\n",
    "    % np.sum(np.argmax(Y_train_val, axis=1) == 4)\n",
    ")\n",
    "\n",
    "\n",
    "print(\"number of G jets for testing: %i\" % np.sum(np.argmax(Y_test, axis=1) == 0))\n",
    "print(\"number of Q jets for testing: %i\" % np.sum(np.argmax(Y_test, axis=1) == 1))\n",
    "print(\"number of W jets for testing: %i\" % np.sum(np.argmax(Y_test, axis=1) == 2))\n",
    "print(\"number of Z jets for testing: %i\" % np.sum(np.argmax(Y_test, axis=1) == 3))\n",
    "print(\"number of T jets for testing: %i\" % np.sum(np.argmax(Y_test, axis=1) == 4))\n"
   ]
  },
  {
   "cell_type": "code",
   "execution_count": 8,
   "id": "a8414c59-4ff1-413a-8a50-5d3f366a1bbc",
   "metadata": {},
   "outputs": [
    {
     "name": "stdout",
     "output_type": "stream",
     "text": [
      "#jets =  174200\n",
      "#constituents =  30\n",
      "#targets =  5\n",
      "#features =  16\n"
     ]
    }
   ],
   "source": [
    "# baseline keras model\n",
    "\n",
    "njet = X_train_val.shape[0]\n",
    "nconstit = X_train_val.shape[1]\n",
    "ntargets = Y_train_val.shape[1]\n",
    "nfeat = X_train_val.shape[2]\n",
    "\n",
    "\n",
    "print(\"#jets = \", njet)\n",
    "print(\"#constituents = \", nconstit)\n",
    "print(\"#targets = \", ntargets)\n",
    "print(\"#features = \", nfeat)"
   ]
  },
  {
   "cell_type": "code",
   "execution_count": null,
   "id": "e3d9dbe6-60c2-46d4-bd49-ce330f9e17cc",
   "metadata": {},
   "outputs": [],
   "source": []
  }
 ],
 "metadata": {
  "kernelspec": {
   "display_name": "Python 3 (ipykernel)",
   "language": "python",
   "name": "python3"
  },
  "language_info": {
   "codemirror_mode": {
    "name": "ipython",
    "version": 3
   },
   "file_extension": ".py",
   "mimetype": "text/x-python",
   "name": "python",
   "nbconvert_exporter": "python",
   "pygments_lexer": "ipython3",
   "version": "3.8.17"
  }
 },
 "nbformat": 4,
 "nbformat_minor": 5
}
